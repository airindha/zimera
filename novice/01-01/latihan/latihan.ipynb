{
 "cells": [
  {
   "cell_type": "code",
   "execution_count": null,
   "metadata": {},
   "outputs": [],
   "source": [
    "the_world_is_flat = True\n",
    "if the_world_is_flat:\n",
    "print(\"Be careful not to fall off!\")"
   ]
  },
  {
   "cell_type": "code",
   "execution_count": null,
   "metadata": {},
   "outputs": [],
   "source": [
    "width = 10\n",
    "height = 4 * 2\n",
    "print (width * height)"
   ]
  },
  {
   "cell_type": "code",
   "execution_count": null,
   "metadata": {},
   "outputs": [],
   "source": [
    "word = 'rindhaf'\n",
    "print (word[3])\n",
    "print (word[:1] + word[1:])"
   ]
  },
  {
   "cell_type": "code",
   "execution_count": null,
   "metadata": {},
   "outputs": [],
   "source": [
    "rindha = [1, 2, 5, 6, 8]\n",
    "print (rindha)\n",
    "print (rindha[-3])\n",
    "print (rindha[4:])\n",
    "rindha + [10, 18, 19, 20, 21]\n",
    "print (rindha)"
   ]
  },
  {
   "cell_type": "code",
   "execution_count": null,
   "metadata": {},
   "outputs": [],
   "source": [
    "r, n = 2, 1\n",
    "while r < 10:\n",
    "    print(r)\n",
    "    r, n = n, r+n"
   ]
  },
  {
   "cell_type": "code",
   "execution_count": null,
   "metadata": {},
   "outputs": [],
   "source": [
    "n, d = 1, 2\n",
    "while n < 200:\n",
    "    print(n, end= ',')\n",
    "    n, d = n, n+d"
   ]
  },
  {
   "cell_type": "code",
   "execution_count": null,
   "metadata": {},
   "outputs": [],
   "source": [
    "n, d = 1, 2\n",
    "while n < 200:\n",
    "    print(n, end=',')\n",
    "    n, d = n, n+d"
   ]
  },
  {
   "cell_type": "code",
   "execution_count": null,
   "metadata": {},
   "outputs": [],
   "source": [
    "n, d = 1, 2\n",
    "while n < 200:\n",
    "    print(n, end= \",\")\n",
    "    n, d = n, n+d"
   ]
  },
  {
   "cell_type": "code",
   "execution_count": null,
   "metadata": {},
   "outputs": [],
   "source": [
    "r = 8\n",
    "if r < 0:\n",
    "    r = 0\n",
    "    print('Negative changed to zero')\n",
    "elif r == 0:\n",
    "    print('Zero')\n",
    "elif x == 1:\n",
    "    print('Single')\n",
    "else:\n",
    "    print('More')"
   ]
  },
  {
   "cell_type": "code",
   "execution_count": null,
   "metadata": {},
   "outputs": [],
   "source": [
    "r = 8\n",
    "if r < 0:\n",
    "    r = 0\n",
    "    print('Negative changed to zero')\n",
    "elif r == 0:\n",
    "    print('Zero')\n",
    "elif r == 1:\n",
    "    print('Single')\n",
    "else:\n",
    "    print('More')"
   ]
  },
  {
   "cell_type": "code",
   "execution_count": null,
   "metadata": {},
   "outputs": [],
   "source": [
    "kata = ['Merapi', 'Sindoro', 'Sumbing']\n",
    "for i in kata:\n",
    "    print(i, len(i))"
   ]
  },
  {
   "cell_type": "code",
   "execution_count": null,
   "metadata": {},
   "outputs": [],
   "source": [
    "for num in range(8, 88):\n",
    "     if num % 8 == 0:\n",
    "         print (\"Found an even number\", num)\n",
    "         continue\n",
    "     print(\"Found a number\", num)"
   ]
  }
 ],
 "metadata": {
  "kernelspec": {
   "display_name": "Python 3 (ipykernel)",
   "language": "python",
   "name": "python3"
  },
  "language_info": {
   "codemirror_mode": {
    "name": "ipython",
    "version": 2
   },
   "file_extension": ".py",
   "mimetype": "text/x-python",
   "name": "python",
   "nbconvert_exporter": "python",
   "pygments_lexer": "ipython2",
   "version": "3.8.6"
  }
 },
 "nbformat": 4,
 "nbformat_minor": 4
}
