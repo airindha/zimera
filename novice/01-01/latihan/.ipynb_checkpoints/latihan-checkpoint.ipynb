{
 "cells": [
  {
   "cell_type": "code",
   "execution_count": 6,
   "metadata": {},
   "outputs": [
    {
     "ename": "IndentationError",
     "evalue": "expected an indented block (Temp/ipykernel_6976/540211086.py, line 3)",
     "output_type": "error",
     "traceback": [
      "\u001b[1;36m  File \u001b[1;32m\"C:\\Users\\Lenovo\\AppData\\Local\\Temp/ipykernel_6976/540211086.py\"\u001b[1;36m, line \u001b[1;32m3\u001b[0m\n\u001b[1;33m    print(\"Be careful not to fall off!\")\u001b[0m\n\u001b[1;37m    ^\u001b[0m\n\u001b[1;31mIndentationError\u001b[0m\u001b[1;31m:\u001b[0m expected an indented block\n"
     ]
    }
   ],
   "source": [
    "the_world_is_flat = True\n",
    "if the_world_is_flat:\n",
    "\tprint(\"Be careful not to fall off!\")"
   ]
  },
  {
   "cell_type": "code",
   "execution_count": 2,
   "metadata": {},
   "outputs": [
    {
     "name": "stdout",
     "output_type": "stream",
     "text": [
      "80\n"
     ]
    }
   ],
   "source": [
    "width = 10\n",
    "height = 4 * 2\n",
    "print (width * height)"
   ]
  },
  {
   "cell_type": "code",
   "execution_count": 3,
   "metadata": {},
   "outputs": [
    {
     "name": "stdout",
     "output_type": "stream",
     "text": [
      "d\n",
      "rindhaf\n"
     ]
    }
   ],
   "source": [
    "word = 'rindhaf'\n",
    "print (word[3])\n",
    "print (word[:1] + word[1:])"
   ]
  },
  {
   "cell_type": "code",
   "execution_count": 4,
   "metadata": {},
   "outputs": [
    {
     "name": "stdout",
     "output_type": "stream",
     "text": [
      "[1, 2, 5, 6, 8]\n",
      "5\n",
      "[8]\n",
      "[1, 2, 5, 6, 8]\n"
     ]
    }
   ],
   "source": [
    "rindha = [1, 2, 5, 6, 8]\n",
    "print (rindha)\n",
    "print (rindha[-3])\n",
    "print (rindha[4:])\n",
    "rindha + [10, 18, 19, 20, 21]\n",
    "print (rindha)"
   ]
  },
  {
   "cell_type": "code",
   "execution_count": 7,
   "metadata": {},
   "outputs": [
    {
     "name": "stdout",
     "output_type": "stream",
     "text": [
      "2\n",
      "1\n",
      "3\n",
      "4\n",
      "7\n"
     ]
    }
   ],
   "source": [
    "r, n = 2, 1\n",
    "while r < 10:\n",
    "    print(r)\n",
    "    r, n = n, r+n"
   ]
  },
  {
   "cell_type": "code",
   "execution_count": null,
   "metadata": {},
   "outputs": [],
   "source": [
    "n, d = 1, 2\n",
    "while n < 200:\n",
    "    print(n, end= ',')\n",
    "    n, d = n, n+d"
   ]
  },
  {
   "cell_type": "code",
   "execution_count": null,
   "metadata": {},
   "outputs": [],
   "source": [
    "n, d = 1, 2\n",
    "while n < 200:\n",
    "    print(n, end=',')\n",
    "    n, d = n, n+d"
   ]
  },
  {
   "cell_type": "code",
   "execution_count": null,
   "metadata": {},
   "outputs": [],
   "source": [
    "n, d = 1, 2\n",
    "while n < 200:\n",
    "    print(n, end= \",\")\n",
    "    n, d = n, n+d"
   ]
  },
  {
   "cell_type": "code",
   "execution_count": null,
   "metadata": {},
   "outputs": [],
   "source": [
    "r = 8\n",
    "if r < 0:\n",
    "    r = 0\n",
    "    print('Negative changed to zero')\n",
    "elif r == 0:\n",
    "    print('Zero')\n",
    "elif x == 1:\n",
    "    print('Single')\n",
    "else:\n",
    "    print('More')"
   ]
  },
  {
   "cell_type": "code",
   "execution_count": null,
   "metadata": {},
   "outputs": [],
   "source": [
    "r = 8\n",
    "if r < 0:\n",
    "    r = 0\n",
    "    print('Negative changed to zero')\n",
    "elif r == 0:\n",
    "    print('Zero')\n",
    "elif r == 1:\n",
    "    print('Single')\n",
    "else:\n",
    "    print('More')"
   ]
  },
  {
   "cell_type": "code",
   "execution_count": null,
   "metadata": {},
   "outputs": [],
   "source": [
    "kata = ['Merapi', 'Sindoro', 'Sumbing']\n",
    "for i in kata:\n",
    "    print(i, len(i))"
   ]
  },
  {
   "cell_type": "code",
   "execution_count": null,
   "metadata": {},
   "outputs": [],
   "source": [
    "for num in range(8, 88):\n",
    "     if num % 8 == 0:\n",
    "         print (\"Found an even number\", num)\n",
    "         continue\n",
    "     print(\"Found a number\", num)"
   ]
  }
 ],
 "metadata": {
  "kernelspec": {
   "display_name": "Python 3 (ipykernel)",
   "language": "python",
   "name": "python3"
  },
  "language_info": {
   "codemirror_mode": {
    "name": "ipython",
    "version": 2
   },
   "file_extension": ".py",
   "mimetype": "text/x-python",
   "name": "python",
   "nbconvert_exporter": "python",
   "pygments_lexer": "ipython2",
   "version": "3.8.6"
  }
 },
 "nbformat": 4,
 "nbformat_minor": 4
}
